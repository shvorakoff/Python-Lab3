{
 "cells": [
  {
   "cell_type": "markdown",
   "source": [
    "# Завдання 1"
   ],
   "metadata": {
    "collapsed": false
   },
   "id": "f9bc36bdb3f04cf2"
  },
  {
   "cell_type": "code",
   "execution_count": 1,
   "outputs": [
    {
     "data": {
      "text/plain": "          Country Energy Supply Energy Supply per Capita  % Renewable\n0     Afghanistan           321                       10    78.669280\n1         Albania           102                       35   100.000000\n2         Algeria          1959                       51     0.551010\n3  American Samoa           ...                      ...     0.641026\n4         Andorra             9                      121    88.695650",
      "text/html": "<div>\n<style scoped>\n    .dataframe tbody tr th:only-of-type {\n        vertical-align: middle;\n    }\n\n    .dataframe tbody tr th {\n        vertical-align: top;\n    }\n\n    .dataframe thead th {\n        text-align: right;\n    }\n</style>\n<table border=\"1\" class=\"dataframe\">\n  <thead>\n    <tr style=\"text-align: right;\">\n      <th></th>\n      <th>Country</th>\n      <th>Energy Supply</th>\n      <th>Energy Supply per Capita</th>\n      <th>% Renewable</th>\n    </tr>\n  </thead>\n  <tbody>\n    <tr>\n      <th>0</th>\n      <td>Afghanistan</td>\n      <td>321</td>\n      <td>10</td>\n      <td>78.669280</td>\n    </tr>\n    <tr>\n      <th>1</th>\n      <td>Albania</td>\n      <td>102</td>\n      <td>35</td>\n      <td>100.000000</td>\n    </tr>\n    <tr>\n      <th>2</th>\n      <td>Algeria</td>\n      <td>1959</td>\n      <td>51</td>\n      <td>0.551010</td>\n    </tr>\n    <tr>\n      <th>3</th>\n      <td>American Samoa</td>\n      <td>...</td>\n      <td>...</td>\n      <td>0.641026</td>\n    </tr>\n    <tr>\n      <th>4</th>\n      <td>Andorra</td>\n      <td>9</td>\n      <td>121</td>\n      <td>88.695650</td>\n    </tr>\n  </tbody>\n</table>\n</div>"
     },
     "execution_count": 1,
     "metadata": {},
     "output_type": "execute_result"
    }
   ],
   "source": [
    "import numpy as np\n",
    "import pandas as pd\n",
    "import re\n",
    "\n",
    "data1 = pd.read_excel('En_In.xls', skiprows=range(1, 18), skipfooter=38, usecols=\"C:F\")\n",
    "data1.columns = ['Country', 'Energy Supply', 'Energy Supply per Capita', '% Renewable']\n",
    "data1.head()"
   ],
   "metadata": {
    "collapsed": false,
    "ExecuteTime": {
     "end_time": "2023-11-28T12:43:34.396826100Z",
     "start_time": "2023-11-28T12:43:32.882088300Z"
    }
   },
   "id": "fa17db1139dc2040"
  },
  {
   "cell_type": "markdown",
   "source": [
    "# Завдання 2\n",
    "## Переведіть дані із стовпчику ‘Energy Supply’ в гДж (Примітка: в 1ПДж = 1000000 ГДж). Для всіх країн, у яких відсутні дані (наприклад, дані з \".....\"), переконайтеся, що це відображається як значення np.NaN."
   ],
   "metadata": {
    "collapsed": false
   },
   "id": "836c69481940900c"
  },
  {
   "cell_type": "code",
   "execution_count": 2,
   "outputs": [
    {
     "data": {
      "text/plain": "          Country                                      Energy Supply  \\\n0     Afghanistan                                          321000000   \n1         Albania                                          102000000   \n2         Algeria                                         1959000000   \n3  American Samoa  .................................................   \n4         Andorra                                            9000000   \n\n  Energy Supply per Capita  % Renewable  \n0                       10    78.669280  \n1                       35   100.000000  \n2                       51     0.551010  \n3                      ...     0.641026  \n4                      121    88.695650  ",
      "text/html": "<div>\n<style scoped>\n    .dataframe tbody tr th:only-of-type {\n        vertical-align: middle;\n    }\n\n    .dataframe tbody tr th {\n        vertical-align: top;\n    }\n\n    .dataframe thead th {\n        text-align: right;\n    }\n</style>\n<table border=\"1\" class=\"dataframe\">\n  <thead>\n    <tr style=\"text-align: right;\">\n      <th></th>\n      <th>Country</th>\n      <th>Energy Supply</th>\n      <th>Energy Supply per Capita</th>\n      <th>% Renewable</th>\n    </tr>\n  </thead>\n  <tbody>\n    <tr>\n      <th>0</th>\n      <td>Afghanistan</td>\n      <td>321000000</td>\n      <td>10</td>\n      <td>78.669280</td>\n    </tr>\n    <tr>\n      <th>1</th>\n      <td>Albania</td>\n      <td>102000000</td>\n      <td>35</td>\n      <td>100.000000</td>\n    </tr>\n    <tr>\n      <th>2</th>\n      <td>Algeria</td>\n      <td>1959000000</td>\n      <td>51</td>\n      <td>0.551010</td>\n    </tr>\n    <tr>\n      <th>3</th>\n      <td>American Samoa</td>\n      <td>.................................................</td>\n      <td>...</td>\n      <td>0.641026</td>\n    </tr>\n    <tr>\n      <th>4</th>\n      <td>Andorra</td>\n      <td>9000000</td>\n      <td>121</td>\n      <td>88.695650</td>\n    </tr>\n  </tbody>\n</table>\n</div>"
     },
     "execution_count": 2,
     "metadata": {},
     "output_type": "execute_result"
    }
   ],
   "source": [
    "data1['Energy Supply'] = data1['Energy Supply'].replace('.....', np.NaN)\n",
    "data1['Energy Supply'] = data1['Energy Supply'] * 1000000\n",
    "data1.head(5)"
   ],
   "metadata": {
    "collapsed": false,
    "ExecuteTime": {
     "end_time": "2023-11-28T12:45:16.181903900Z",
     "start_time": "2023-11-28T12:45:16.148062600Z"
    }
   },
   "id": "60ce680da265ac8c"
  },
  {
   "cell_type": "markdown",
   "source": [
    "# Завдання 3\n",
    "## Перейменуйте наступний список країн: \"Republic of Korea\": \"South Korea\", \"United States of America\": \"United States\", \"United Kingdom of Great Britain and Northern Ireland\": \"United Kingdom\", \"China, Hong Kong Special Administrative Region\": \"Hong Kong\""
   ],
   "metadata": {
    "collapsed": false
   },
   "id": "f7e008a57fc23a3c"
  },
  {
   "cell_type": "code",
   "execution_count": 3,
   "outputs": [
    {
     "data": {
      "text/plain": "            Country Energy Supply Energy Supply per Capita  % Renewable\n43        Hong Kong     585000000                       82     0.000000\n164     South Korea   11007000000                      221     2.279353\n214  United Kingdom    7920000000                      124    10.600470\n216   United States   90838000000                      286    11.570980",
      "text/html": "<div>\n<style scoped>\n    .dataframe tbody tr th:only-of-type {\n        vertical-align: middle;\n    }\n\n    .dataframe tbody tr th {\n        vertical-align: top;\n    }\n\n    .dataframe thead th {\n        text-align: right;\n    }\n</style>\n<table border=\"1\" class=\"dataframe\">\n  <thead>\n    <tr style=\"text-align: right;\">\n      <th></th>\n      <th>Country</th>\n      <th>Energy Supply</th>\n      <th>Energy Supply per Capita</th>\n      <th>% Renewable</th>\n    </tr>\n  </thead>\n  <tbody>\n    <tr>\n      <th>43</th>\n      <td>Hong Kong</td>\n      <td>585000000</td>\n      <td>82</td>\n      <td>0.000000</td>\n    </tr>\n    <tr>\n      <th>164</th>\n      <td>South Korea</td>\n      <td>11007000000</td>\n      <td>221</td>\n      <td>2.279353</td>\n    </tr>\n    <tr>\n      <th>214</th>\n      <td>United Kingdom</td>\n      <td>7920000000</td>\n      <td>124</td>\n      <td>10.600470</td>\n    </tr>\n    <tr>\n      <th>216</th>\n      <td>United States</td>\n      <td>90838000000</td>\n      <td>286</td>\n      <td>11.570980</td>\n    </tr>\n  </tbody>\n</table>\n</div>"
     },
     "execution_count": 3,
     "metadata": {},
     "output_type": "execute_result"
    }
   ],
   "source": [
    "country_mapping = {\n",
    "    r\"(.*United States of America.*)\": \"United States\",\n",
    "    r\"(.*United Kingdom of Great Britain and Northern Ireland.*)\": \"United Kingdom\",\n",
    "    r\"(.*China, Hong Kong Special Administrative Region.*)\": \"Hong Kong\",\n",
    "    r\"(^(?!.*Democratic People's).*Republic of Korea.*)\": \"South Korea\"\n",
    "}\n",
    "data1['Country'] = data1['Country'].replace(country_mapping, regex=True)\n",
    "renamed_countries = data1[data1['Country'].isin(country_mapping.values())]\n",
    "renamed_countries"
   ],
   "metadata": {
    "collapsed": false,
    "ExecuteTime": {
     "end_time": "2023-11-28T12:48:04.222138600Z",
     "start_time": "2023-11-28T12:48:04.206432600Z"
    }
   },
   "id": "b4970fc741bee0ac"
  },
  {
   "cell_type": "markdown",
   "source": [
    "# Завдання 4\n",
    "## Існує також декілька країн, що мають в назві цифри та/або дужки. Обов’язково видаліть їх, напр. 'Bolivia (Plurinational State of) повинна бути ‘Bolivia’, ‘Switzerland17’ повинна бути Switzerland’."
   ],
   "metadata": {
    "collapsed": false
   },
   "id": "b84c1a8295e68a84"
  },
  {
   "cell_type": "code",
   "execution_count": 4,
   "outputs": [],
   "source": [
    "def clean_country_names(country):\n",
    "    clean_name = re.sub(r' \\(.+\\)|\\d+', '', country).strip()\n",
    "    return clean_name\n",
    "data1['Country'] = data1['Country'].apply(clean_country_names)"
   ],
   "metadata": {
    "collapsed": false,
    "ExecuteTime": {
     "end_time": "2023-11-28T12:49:04.258498700Z",
     "start_time": "2023-11-28T12:49:04.231785800Z"
    }
   },
   "id": "7a6ae313ddc1774f"
  },
  {
   "cell_type": "markdown",
   "source": [
    "## Тест"
   ],
   "metadata": {
    "collapsed": false
   },
   "id": "eb378d232da6f83c"
  },
  {
   "cell_type": "code",
   "execution_count": 5,
   "outputs": [
    {
     "data": {
      "text/plain": "            Country                                      Energy Supply  \\\n3    American Samoa  .................................................   \n24          Bolivia                                          336000000   \n164     South Korea                                        11007000000   \n\n    Energy Supply per Capita  % Renewable  \n3                        ...     0.641026  \n24                        32    31.477120  \n164                      221     2.279353  ",
      "text/html": "<div>\n<style scoped>\n    .dataframe tbody tr th:only-of-type {\n        vertical-align: middle;\n    }\n\n    .dataframe tbody tr th {\n        vertical-align: top;\n    }\n\n    .dataframe thead th {\n        text-align: right;\n    }\n</style>\n<table border=\"1\" class=\"dataframe\">\n  <thead>\n    <tr style=\"text-align: right;\">\n      <th></th>\n      <th>Country</th>\n      <th>Energy Supply</th>\n      <th>Energy Supply per Capita</th>\n      <th>% Renewable</th>\n    </tr>\n  </thead>\n  <tbody>\n    <tr>\n      <th>3</th>\n      <td>American Samoa</td>\n      <td>.................................................</td>\n      <td>...</td>\n      <td>0.641026</td>\n    </tr>\n    <tr>\n      <th>24</th>\n      <td>Bolivia</td>\n      <td>336000000</td>\n      <td>32</td>\n      <td>31.477120</td>\n    </tr>\n    <tr>\n      <th>164</th>\n      <td>South Korea</td>\n      <td>11007000000</td>\n      <td>221</td>\n      <td>2.279353</td>\n    </tr>\n  </tbody>\n</table>\n</div>"
     },
     "execution_count": 5,
     "metadata": {},
     "output_type": "execute_result"
    }
   ],
   "source": [
    "data1.loc[data1['Country'].isin(['American Samoa', 'South Korea', 'Bolivia'])]"
   ],
   "metadata": {
    "collapsed": false,
    "ExecuteTime": {
     "end_time": "2023-11-28T12:49:40.898153100Z",
     "start_time": "2023-11-28T12:49:40.866739100Z"
    }
   },
   "id": "ac2f02a98039f855"
  },
  {
   "cell_type": "markdown",
   "source": [
    "# Завдання 5\n",
    "## Далі, завантажте дані про ВВП з файлу „gpd.csv”, що містить дані Світового банку про ВВП країн від 1960 до 2015 року.Обов’язково не включайте заголовок до датафрейму і перейменуйте наступний список країн: \"Korea, Rep.\": \"South Korea\", \"Iran, Islamic Rep.\": \"Iran\", \"Hong Kong SAR, China\": \"Hong Kong\""
   ],
   "metadata": {
    "collapsed": false
   },
   "id": "ee80ce27a1b61584"
  },
  {
   "cell_type": "code",
   "execution_count": 6,
   "outputs": [
    {
     "data": {
      "text/plain": "         Country Name Country Code                            Indicator Name  \\\n0               Aruba          ABW  GDP at market prices (constant 2010 US$)   \n1             Andorra          AND  GDP at market prices (constant 2010 US$)   \n2         Afghanistan          AFG  GDP at market prices (constant 2010 US$)   \n3              Angola          AGO  GDP at market prices (constant 2010 US$)   \n4             Albania          ALB  GDP at market prices (constant 2010 US$)   \n..                ...          ...                                       ...   \n259       Yemen, Rep.          YEM  GDP at market prices (constant 2010 US$)   \n260      South Africa          ZAF  GDP at market prices (constant 2010 US$)   \n261  Congo, Dem. Rep.          COD  GDP at market prices (constant 2010 US$)   \n262            Zambia          ZMB  GDP at market prices (constant 2010 US$)   \n263          Zimbabwe          ZWE  GDP at market prices (constant 2010 US$)   \n\n     Indicator Code          1960          1961          1962          1963  \\\n0    NY.GDP.MKTP.KD           NaN           NaN           NaN           NaN   \n1    NY.GDP.MKTP.KD           NaN           NaN           NaN           NaN   \n2    NY.GDP.MKTP.KD           NaN           NaN           NaN           NaN   \n3    NY.GDP.MKTP.KD           NaN           NaN           NaN           NaN   \n4    NY.GDP.MKTP.KD           NaN           NaN           NaN           NaN   \n..              ...           ...           ...           ...           ...   \n259  NY.GDP.MKTP.KD           NaN           NaN           NaN           NaN   \n260  NY.GDP.MKTP.KD  7.707081e+10  8.003449e+10  8.497844e+10  9.124438e+10   \n261  NY.GDP.MKTP.KD  1.508024e+10  1.344383e+10  1.629401e+10  1.714358e+10   \n262  NY.GDP.MKTP.KD  4.592975e+09  4.655503e+09  4.539542e+09  4.688093e+09   \n263  NY.GDP.MKTP.KD  3.338344e+09  3.549199e+09  3.600111e+09  3.824915e+09   \n\n             1964          1965  ...          2006          2007  \\\n0             NaN           NaN  ...           NaN           NaN   \n1             NaN           NaN  ...  4.018196e+09  4.021331e+09   \n2             NaN           NaN  ...  1.030523e+10  1.172119e+10   \n3             NaN           NaN  ...  5.581103e+10  6.842044e+10   \n4             NaN           NaN  ...  9.771760e+09  1.034829e+10   \n..            ...           ...  ...           ...           ...   \n259           NaN           NaN  ...  2.672565e+10  2.761787e+10   \n260  9.848904e+10  1.072507e+11  ...  3.402852e+11  3.585261e+11   \n261  1.672524e+10  1.689205e+10  ...  1.650894e+10  1.754232e+10   \n262  5.260699e+09  6.136472e+09  ...  1.440569e+10  1.560892e+10   \n263  3.782605e+09  3.968352e+09  ...  1.006276e+10  9.695130e+09   \n\n             2008          2009          2010          2011          2012  \\\n0             NaN           NaN  2.467704e+09           NaN           NaN   \n1    3.675728e+09  3.535389e+09  3.346317e+09  3.185605e+09  3.129538e+09   \n2    1.214448e+10  1.469733e+10  1.593680e+10  1.691113e+10  1.935220e+10   \n3    7.787420e+10  7.975320e+10  8.247091e+10  8.570262e+10  9.012096e+10   \n4    1.112752e+10  1.150029e+10  1.192695e+10  1.223109e+10  1.240477e+10   \n..            ...           ...           ...           ...           ...   \n259  2.872656e+10  2.991436e+10  3.090675e+10  2.624342e+10  2.689160e+10   \n260  3.699668e+11  3.642764e+11  3.753494e+11  3.874074e+11  3.960071e+11   \n261  1.863448e+10  1.916651e+10  2.052329e+10  2.193213e+10  2.350200e+10   \n262  1.682234e+10  1.837342e+10  2.026555e+10  2.140358e+10  2.302438e+10   \n263  7.982103e+09  8.459783e+09  9.422161e+09  1.054391e+10  1.165789e+10   \n\n             2013          2014          2015  \n0             NaN           NaN           NaN  \n1    3.127550e+09           NaN           NaN  \n2    1.973134e+10  1.999032e+10  2.029415e+10  \n3    9.626143e+10  1.008863e+11  1.039106e+11  \n4    1.254247e+10  1.279331e+10  1.312082e+10  \n..            ...           ...           ...  \n259  2.800914e+10           NaN           NaN  \n260  4.047682e+11  4.110369e+11  4.163117e+11  \n261  2.550050e+10  2.778776e+10  2.970961e+10  \n262  2.420595e+10  2.542227e+10  2.624127e+10  \n263  1.218064e+10  1.264939e+10  1.278517e+10  \n\n[264 rows x 60 columns]",
      "text/html": "<div>\n<style scoped>\n    .dataframe tbody tr th:only-of-type {\n        vertical-align: middle;\n    }\n\n    .dataframe tbody tr th {\n        vertical-align: top;\n    }\n\n    .dataframe thead th {\n        text-align: right;\n    }\n</style>\n<table border=\"1\" class=\"dataframe\">\n  <thead>\n    <tr style=\"text-align: right;\">\n      <th></th>\n      <th>Country Name</th>\n      <th>Country Code</th>\n      <th>Indicator Name</th>\n      <th>Indicator Code</th>\n      <th>1960</th>\n      <th>1961</th>\n      <th>1962</th>\n      <th>1963</th>\n      <th>1964</th>\n      <th>1965</th>\n      <th>...</th>\n      <th>2006</th>\n      <th>2007</th>\n      <th>2008</th>\n      <th>2009</th>\n      <th>2010</th>\n      <th>2011</th>\n      <th>2012</th>\n      <th>2013</th>\n      <th>2014</th>\n      <th>2015</th>\n    </tr>\n  </thead>\n  <tbody>\n    <tr>\n      <th>0</th>\n      <td>Aruba</td>\n      <td>ABW</td>\n      <td>GDP at market prices (constant 2010 US$)</td>\n      <td>NY.GDP.MKTP.KD</td>\n      <td>NaN</td>\n      <td>NaN</td>\n      <td>NaN</td>\n      <td>NaN</td>\n      <td>NaN</td>\n      <td>NaN</td>\n      <td>...</td>\n      <td>NaN</td>\n      <td>NaN</td>\n      <td>NaN</td>\n      <td>NaN</td>\n      <td>2.467704e+09</td>\n      <td>NaN</td>\n      <td>NaN</td>\n      <td>NaN</td>\n      <td>NaN</td>\n      <td>NaN</td>\n    </tr>\n    <tr>\n      <th>1</th>\n      <td>Andorra</td>\n      <td>AND</td>\n      <td>GDP at market prices (constant 2010 US$)</td>\n      <td>NY.GDP.MKTP.KD</td>\n      <td>NaN</td>\n      <td>NaN</td>\n      <td>NaN</td>\n      <td>NaN</td>\n      <td>NaN</td>\n      <td>NaN</td>\n      <td>...</td>\n      <td>4.018196e+09</td>\n      <td>4.021331e+09</td>\n      <td>3.675728e+09</td>\n      <td>3.535389e+09</td>\n      <td>3.346317e+09</td>\n      <td>3.185605e+09</td>\n      <td>3.129538e+09</td>\n      <td>3.127550e+09</td>\n      <td>NaN</td>\n      <td>NaN</td>\n    </tr>\n    <tr>\n      <th>2</th>\n      <td>Afghanistan</td>\n      <td>AFG</td>\n      <td>GDP at market prices (constant 2010 US$)</td>\n      <td>NY.GDP.MKTP.KD</td>\n      <td>NaN</td>\n      <td>NaN</td>\n      <td>NaN</td>\n      <td>NaN</td>\n      <td>NaN</td>\n      <td>NaN</td>\n      <td>...</td>\n      <td>1.030523e+10</td>\n      <td>1.172119e+10</td>\n      <td>1.214448e+10</td>\n      <td>1.469733e+10</td>\n      <td>1.593680e+10</td>\n      <td>1.691113e+10</td>\n      <td>1.935220e+10</td>\n      <td>1.973134e+10</td>\n      <td>1.999032e+10</td>\n      <td>2.029415e+10</td>\n    </tr>\n    <tr>\n      <th>3</th>\n      <td>Angola</td>\n      <td>AGO</td>\n      <td>GDP at market prices (constant 2010 US$)</td>\n      <td>NY.GDP.MKTP.KD</td>\n      <td>NaN</td>\n      <td>NaN</td>\n      <td>NaN</td>\n      <td>NaN</td>\n      <td>NaN</td>\n      <td>NaN</td>\n      <td>...</td>\n      <td>5.581103e+10</td>\n      <td>6.842044e+10</td>\n      <td>7.787420e+10</td>\n      <td>7.975320e+10</td>\n      <td>8.247091e+10</td>\n      <td>8.570262e+10</td>\n      <td>9.012096e+10</td>\n      <td>9.626143e+10</td>\n      <td>1.008863e+11</td>\n      <td>1.039106e+11</td>\n    </tr>\n    <tr>\n      <th>4</th>\n      <td>Albania</td>\n      <td>ALB</td>\n      <td>GDP at market prices (constant 2010 US$)</td>\n      <td>NY.GDP.MKTP.KD</td>\n      <td>NaN</td>\n      <td>NaN</td>\n      <td>NaN</td>\n      <td>NaN</td>\n      <td>NaN</td>\n      <td>NaN</td>\n      <td>...</td>\n      <td>9.771760e+09</td>\n      <td>1.034829e+10</td>\n      <td>1.112752e+10</td>\n      <td>1.150029e+10</td>\n      <td>1.192695e+10</td>\n      <td>1.223109e+10</td>\n      <td>1.240477e+10</td>\n      <td>1.254247e+10</td>\n      <td>1.279331e+10</td>\n      <td>1.312082e+10</td>\n    </tr>\n    <tr>\n      <th>...</th>\n      <td>...</td>\n      <td>...</td>\n      <td>...</td>\n      <td>...</td>\n      <td>...</td>\n      <td>...</td>\n      <td>...</td>\n      <td>...</td>\n      <td>...</td>\n      <td>...</td>\n      <td>...</td>\n      <td>...</td>\n      <td>...</td>\n      <td>...</td>\n      <td>...</td>\n      <td>...</td>\n      <td>...</td>\n      <td>...</td>\n      <td>...</td>\n      <td>...</td>\n      <td>...</td>\n    </tr>\n    <tr>\n      <th>259</th>\n      <td>Yemen, Rep.</td>\n      <td>YEM</td>\n      <td>GDP at market prices (constant 2010 US$)</td>\n      <td>NY.GDP.MKTP.KD</td>\n      <td>NaN</td>\n      <td>NaN</td>\n      <td>NaN</td>\n      <td>NaN</td>\n      <td>NaN</td>\n      <td>NaN</td>\n      <td>...</td>\n      <td>2.672565e+10</td>\n      <td>2.761787e+10</td>\n      <td>2.872656e+10</td>\n      <td>2.991436e+10</td>\n      <td>3.090675e+10</td>\n      <td>2.624342e+10</td>\n      <td>2.689160e+10</td>\n      <td>2.800914e+10</td>\n      <td>NaN</td>\n      <td>NaN</td>\n    </tr>\n    <tr>\n      <th>260</th>\n      <td>South Africa</td>\n      <td>ZAF</td>\n      <td>GDP at market prices (constant 2010 US$)</td>\n      <td>NY.GDP.MKTP.KD</td>\n      <td>7.707081e+10</td>\n      <td>8.003449e+10</td>\n      <td>8.497844e+10</td>\n      <td>9.124438e+10</td>\n      <td>9.848904e+10</td>\n      <td>1.072507e+11</td>\n      <td>...</td>\n      <td>3.402852e+11</td>\n      <td>3.585261e+11</td>\n      <td>3.699668e+11</td>\n      <td>3.642764e+11</td>\n      <td>3.753494e+11</td>\n      <td>3.874074e+11</td>\n      <td>3.960071e+11</td>\n      <td>4.047682e+11</td>\n      <td>4.110369e+11</td>\n      <td>4.163117e+11</td>\n    </tr>\n    <tr>\n      <th>261</th>\n      <td>Congo, Dem. Rep.</td>\n      <td>COD</td>\n      <td>GDP at market prices (constant 2010 US$)</td>\n      <td>NY.GDP.MKTP.KD</td>\n      <td>1.508024e+10</td>\n      <td>1.344383e+10</td>\n      <td>1.629401e+10</td>\n      <td>1.714358e+10</td>\n      <td>1.672524e+10</td>\n      <td>1.689205e+10</td>\n      <td>...</td>\n      <td>1.650894e+10</td>\n      <td>1.754232e+10</td>\n      <td>1.863448e+10</td>\n      <td>1.916651e+10</td>\n      <td>2.052329e+10</td>\n      <td>2.193213e+10</td>\n      <td>2.350200e+10</td>\n      <td>2.550050e+10</td>\n      <td>2.778776e+10</td>\n      <td>2.970961e+10</td>\n    </tr>\n    <tr>\n      <th>262</th>\n      <td>Zambia</td>\n      <td>ZMB</td>\n      <td>GDP at market prices (constant 2010 US$)</td>\n      <td>NY.GDP.MKTP.KD</td>\n      <td>4.592975e+09</td>\n      <td>4.655503e+09</td>\n      <td>4.539542e+09</td>\n      <td>4.688093e+09</td>\n      <td>5.260699e+09</td>\n      <td>6.136472e+09</td>\n      <td>...</td>\n      <td>1.440569e+10</td>\n      <td>1.560892e+10</td>\n      <td>1.682234e+10</td>\n      <td>1.837342e+10</td>\n      <td>2.026555e+10</td>\n      <td>2.140358e+10</td>\n      <td>2.302438e+10</td>\n      <td>2.420595e+10</td>\n      <td>2.542227e+10</td>\n      <td>2.624127e+10</td>\n    </tr>\n    <tr>\n      <th>263</th>\n      <td>Zimbabwe</td>\n      <td>ZWE</td>\n      <td>GDP at market prices (constant 2010 US$)</td>\n      <td>NY.GDP.MKTP.KD</td>\n      <td>3.338344e+09</td>\n      <td>3.549199e+09</td>\n      <td>3.600111e+09</td>\n      <td>3.824915e+09</td>\n      <td>3.782605e+09</td>\n      <td>3.968352e+09</td>\n      <td>...</td>\n      <td>1.006276e+10</td>\n      <td>9.695130e+09</td>\n      <td>7.982103e+09</td>\n      <td>8.459783e+09</td>\n      <td>9.422161e+09</td>\n      <td>1.054391e+10</td>\n      <td>1.165789e+10</td>\n      <td>1.218064e+10</td>\n      <td>1.264939e+10</td>\n      <td>1.278517e+10</td>\n    </tr>\n  </tbody>\n</table>\n<p>264 rows × 60 columns</p>\n</div>"
     },
     "execution_count": 6,
     "metadata": {},
     "output_type": "execute_result"
    }
   ],
   "source": [
    "data2 = pd.read_csv('gpd.csv', skiprows=4)\n",
    "country_mapping = {\n",
    "    \"Korea, Rep.\": \"South Korea\",\n",
    "    \"Iran, Islamic Rep.\": \"Iran\",\n",
    "    \"Hong Kong SAR, China\": \"Hong Kong\"\n",
    "}\n",
    "data2['Country Name'] = data2['Country Name'].replace(country_mapping)\n",
    "data2"
   ],
   "metadata": {
    "collapsed": false,
    "ExecuteTime": {
     "end_time": "2023-11-28T12:52:56.036183500Z",
     "start_time": "2023-11-28T12:52:55.988987200Z"
    }
   },
   "id": "19b71f2c1e8ad975"
  },
  {
   "cell_type": "markdown",
   "source": [
    "# Завдання 6\n",
    "## Завантажте дані з файлу „scimagojr.xlsx”, який класифікує країни на основі їхніх публікацій в журналах у галузі енергетичного машинобудування та енергетичних технологій."
   ],
   "metadata": {
    "collapsed": false
   },
   "id": "760276a9089c2910"
  },
  {
   "cell_type": "code",
   "execution_count": 10,
   "outputs": [
    {
     "data": {
      "text/plain": "     Rank             Country  Documents  Citable documents  Citations  \\\n0       1               China     127050             126767     597237   \n1       2       United States      96661              94747     792274   \n2       3               Japan      30504              30287     223024   \n3       4      United Kingdom      20944              20357     206091   \n4       5  Russian Federation      18534              18301      34266   \n..    ...                 ...        ...                ...        ...   \n186   187              Guyana          1                  1          0   \n187   188    Christmas Island          1                  1          0   \n188   189             Reunion          1                  1          2   \n189   190         Saint Lucia          1                  1          0   \n190   191          Mauritania          1                  1          1   \n\n     Self-citations  Citations per document  H index  \n0            411683                    4.70      138  \n1            265436                    8.20      230  \n2             61554                    7.31      134  \n3             37874                    9.84      139  \n4             12422                    1.85       57  \n..              ...                     ...      ...  \n186               0                    0.00        0  \n187               0                    0.00        0  \n188               1                    2.00        1  \n189               0                    0.00        0  \n190               0                    1.00        1  \n\n[191 rows x 8 columns]",
      "text/html": "<div>\n<style scoped>\n    .dataframe tbody tr th:only-of-type {\n        vertical-align: middle;\n    }\n\n    .dataframe tbody tr th {\n        vertical-align: top;\n    }\n\n    .dataframe thead th {\n        text-align: right;\n    }\n</style>\n<table border=\"1\" class=\"dataframe\">\n  <thead>\n    <tr style=\"text-align: right;\">\n      <th></th>\n      <th>Rank</th>\n      <th>Country</th>\n      <th>Documents</th>\n      <th>Citable documents</th>\n      <th>Citations</th>\n      <th>Self-citations</th>\n      <th>Citations per document</th>\n      <th>H index</th>\n    </tr>\n  </thead>\n  <tbody>\n    <tr>\n      <th>0</th>\n      <td>1</td>\n      <td>China</td>\n      <td>127050</td>\n      <td>126767</td>\n      <td>597237</td>\n      <td>411683</td>\n      <td>4.70</td>\n      <td>138</td>\n    </tr>\n    <tr>\n      <th>1</th>\n      <td>2</td>\n      <td>United States</td>\n      <td>96661</td>\n      <td>94747</td>\n      <td>792274</td>\n      <td>265436</td>\n      <td>8.20</td>\n      <td>230</td>\n    </tr>\n    <tr>\n      <th>2</th>\n      <td>3</td>\n      <td>Japan</td>\n      <td>30504</td>\n      <td>30287</td>\n      <td>223024</td>\n      <td>61554</td>\n      <td>7.31</td>\n      <td>134</td>\n    </tr>\n    <tr>\n      <th>3</th>\n      <td>4</td>\n      <td>United Kingdom</td>\n      <td>20944</td>\n      <td>20357</td>\n      <td>206091</td>\n      <td>37874</td>\n      <td>9.84</td>\n      <td>139</td>\n    </tr>\n    <tr>\n      <th>4</th>\n      <td>5</td>\n      <td>Russian Federation</td>\n      <td>18534</td>\n      <td>18301</td>\n      <td>34266</td>\n      <td>12422</td>\n      <td>1.85</td>\n      <td>57</td>\n    </tr>\n    <tr>\n      <th>...</th>\n      <td>...</td>\n      <td>...</td>\n      <td>...</td>\n      <td>...</td>\n      <td>...</td>\n      <td>...</td>\n      <td>...</td>\n      <td>...</td>\n    </tr>\n    <tr>\n      <th>186</th>\n      <td>187</td>\n      <td>Guyana</td>\n      <td>1</td>\n      <td>1</td>\n      <td>0</td>\n      <td>0</td>\n      <td>0.00</td>\n      <td>0</td>\n    </tr>\n    <tr>\n      <th>187</th>\n      <td>188</td>\n      <td>Christmas Island</td>\n      <td>1</td>\n      <td>1</td>\n      <td>0</td>\n      <td>0</td>\n      <td>0.00</td>\n      <td>0</td>\n    </tr>\n    <tr>\n      <th>188</th>\n      <td>189</td>\n      <td>Reunion</td>\n      <td>1</td>\n      <td>1</td>\n      <td>2</td>\n      <td>1</td>\n      <td>2.00</td>\n      <td>1</td>\n    </tr>\n    <tr>\n      <th>189</th>\n      <td>190</td>\n      <td>Saint Lucia</td>\n      <td>1</td>\n      <td>1</td>\n      <td>0</td>\n      <td>0</td>\n      <td>0.00</td>\n      <td>0</td>\n    </tr>\n    <tr>\n      <th>190</th>\n      <td>191</td>\n      <td>Mauritania</td>\n      <td>1</td>\n      <td>1</td>\n      <td>1</td>\n      <td>0</td>\n      <td>1.00</td>\n      <td>1</td>\n    </tr>\n  </tbody>\n</table>\n<p>191 rows × 8 columns</p>\n</div>"
     },
     "execution_count": 10,
     "metadata": {},
     "output_type": "execute_result"
    }
   ],
   "source": [
    "data3 = pd.read_excel('scimagojr.xlsx')\n",
    "data3"
   ],
   "metadata": {
    "collapsed": false,
    "ExecuteTime": {
     "end_time": "2023-11-28T12:55:44.836892600Z",
     "start_time": "2023-11-28T12:55:44.788186900Z"
    }
   },
   "id": "3427c451e3f069d1"
  },
  {
   "cell_type": "markdown",
   "source": [
    "## Data set 1"
   ],
   "metadata": {
    "collapsed": false
   },
   "id": "c540430f7600b96c"
  },
  {
   "cell_type": "code",
   "execution_count": 11,
   "outputs": [
    {
     "data": {
      "text/plain": "                       Country  \\\n0                  Afghanistan   \n1                      Albania   \n2                      Algeria   \n3               American Samoa   \n4                      Andorra   \n..                         ...   \n222                   Viet Nam   \n223  Wallis and Futuna Islands   \n224                      Yemen   \n225                     Zambia   \n226                   Zimbabwe   \n\n                                         Energy Supply  \\\n0                                            321000000   \n1                                            102000000   \n2                                           1959000000   \n3    .................................................   \n4                                              9000000   \n..                                                 ...   \n222                                         2554000000   \n223                                                  0   \n224                                          344000000   \n225                                          400000000   \n226                                          480000000   \n\n    Energy Supply per Capita  % Renewable  \n0                         10    78.669280  \n1                         35   100.000000  \n2                         51     0.551010  \n3                        ...     0.641026  \n4                        121    88.695650  \n..                       ...          ...  \n222                       28    45.321520  \n223                       26     0.000000  \n224                       13     0.000000  \n225                       26    99.714670  \n226                       32    52.536120  \n\n[227 rows x 4 columns]",
      "text/html": "<div>\n<style scoped>\n    .dataframe tbody tr th:only-of-type {\n        vertical-align: middle;\n    }\n\n    .dataframe tbody tr th {\n        vertical-align: top;\n    }\n\n    .dataframe thead th {\n        text-align: right;\n    }\n</style>\n<table border=\"1\" class=\"dataframe\">\n  <thead>\n    <tr style=\"text-align: right;\">\n      <th></th>\n      <th>Country</th>\n      <th>Energy Supply</th>\n      <th>Energy Supply per Capita</th>\n      <th>% Renewable</th>\n    </tr>\n  </thead>\n  <tbody>\n    <tr>\n      <th>0</th>\n      <td>Afghanistan</td>\n      <td>321000000</td>\n      <td>10</td>\n      <td>78.669280</td>\n    </tr>\n    <tr>\n      <th>1</th>\n      <td>Albania</td>\n      <td>102000000</td>\n      <td>35</td>\n      <td>100.000000</td>\n    </tr>\n    <tr>\n      <th>2</th>\n      <td>Algeria</td>\n      <td>1959000000</td>\n      <td>51</td>\n      <td>0.551010</td>\n    </tr>\n    <tr>\n      <th>3</th>\n      <td>American Samoa</td>\n      <td>.................................................</td>\n      <td>...</td>\n      <td>0.641026</td>\n    </tr>\n    <tr>\n      <th>4</th>\n      <td>Andorra</td>\n      <td>9000000</td>\n      <td>121</td>\n      <td>88.695650</td>\n    </tr>\n    <tr>\n      <th>...</th>\n      <td>...</td>\n      <td>...</td>\n      <td>...</td>\n      <td>...</td>\n    </tr>\n    <tr>\n      <th>222</th>\n      <td>Viet Nam</td>\n      <td>2554000000</td>\n      <td>28</td>\n      <td>45.321520</td>\n    </tr>\n    <tr>\n      <th>223</th>\n      <td>Wallis and Futuna Islands</td>\n      <td>0</td>\n      <td>26</td>\n      <td>0.000000</td>\n    </tr>\n    <tr>\n      <th>224</th>\n      <td>Yemen</td>\n      <td>344000000</td>\n      <td>13</td>\n      <td>0.000000</td>\n    </tr>\n    <tr>\n      <th>225</th>\n      <td>Zambia</td>\n      <td>400000000</td>\n      <td>26</td>\n      <td>99.714670</td>\n    </tr>\n    <tr>\n      <th>226</th>\n      <td>Zimbabwe</td>\n      <td>480000000</td>\n      <td>32</td>\n      <td>52.536120</td>\n    </tr>\n  </tbody>\n</table>\n<p>227 rows × 4 columns</p>\n</div>"
     },
     "execution_count": 11,
     "metadata": {},
     "output_type": "execute_result"
    }
   ],
   "source": [
    "data1"
   ],
   "metadata": {
    "collapsed": false,
    "ExecuteTime": {
     "end_time": "2023-11-28T12:57:00.082512400Z",
     "start_time": "2023-11-28T12:57:00.060296700Z"
    }
   },
   "id": "24a1321454202b1b"
  },
  {
   "cell_type": "markdown",
   "source": [
    "## Data set 2"
   ],
   "metadata": {
    "collapsed": false
   },
   "id": "16d492e503bd8882"
  },
  {
   "cell_type": "code",
   "execution_count": 13,
   "outputs": [
    {
     "data": {
      "text/plain": "         Country Name Country Code                            Indicator Name  \\\n0               Aruba          ABW  GDP at market prices (constant 2010 US$)   \n1             Andorra          AND  GDP at market prices (constant 2010 US$)   \n2         Afghanistan          AFG  GDP at market prices (constant 2010 US$)   \n3              Angola          AGO  GDP at market prices (constant 2010 US$)   \n4             Albania          ALB  GDP at market prices (constant 2010 US$)   \n..                ...          ...                                       ...   \n259       Yemen, Rep.          YEM  GDP at market prices (constant 2010 US$)   \n260      South Africa          ZAF  GDP at market prices (constant 2010 US$)   \n261  Congo, Dem. Rep.          COD  GDP at market prices (constant 2010 US$)   \n262            Zambia          ZMB  GDP at market prices (constant 2010 US$)   \n263          Zimbabwe          ZWE  GDP at market prices (constant 2010 US$)   \n\n     Indicator Code          1960          1961          1962          1963  \\\n0    NY.GDP.MKTP.KD           NaN           NaN           NaN           NaN   \n1    NY.GDP.MKTP.KD           NaN           NaN           NaN           NaN   \n2    NY.GDP.MKTP.KD           NaN           NaN           NaN           NaN   \n3    NY.GDP.MKTP.KD           NaN           NaN           NaN           NaN   \n4    NY.GDP.MKTP.KD           NaN           NaN           NaN           NaN   \n..              ...           ...           ...           ...           ...   \n259  NY.GDP.MKTP.KD           NaN           NaN           NaN           NaN   \n260  NY.GDP.MKTP.KD  7.707081e+10  8.003449e+10  8.497844e+10  9.124438e+10   \n261  NY.GDP.MKTP.KD  1.508024e+10  1.344383e+10  1.629401e+10  1.714358e+10   \n262  NY.GDP.MKTP.KD  4.592975e+09  4.655503e+09  4.539542e+09  4.688093e+09   \n263  NY.GDP.MKTP.KD  3.338344e+09  3.549199e+09  3.600111e+09  3.824915e+09   \n\n             1964          1965  ...          2006          2007  \\\n0             NaN           NaN  ...           NaN           NaN   \n1             NaN           NaN  ...  4.018196e+09  4.021331e+09   \n2             NaN           NaN  ...  1.030523e+10  1.172119e+10   \n3             NaN           NaN  ...  5.581103e+10  6.842044e+10   \n4             NaN           NaN  ...  9.771760e+09  1.034829e+10   \n..            ...           ...  ...           ...           ...   \n259           NaN           NaN  ...  2.672565e+10  2.761787e+10   \n260  9.848904e+10  1.072507e+11  ...  3.402852e+11  3.585261e+11   \n261  1.672524e+10  1.689205e+10  ...  1.650894e+10  1.754232e+10   \n262  5.260699e+09  6.136472e+09  ...  1.440569e+10  1.560892e+10   \n263  3.782605e+09  3.968352e+09  ...  1.006276e+10  9.695130e+09   \n\n             2008          2009          2010          2011          2012  \\\n0             NaN           NaN  2.467704e+09           NaN           NaN   \n1    3.675728e+09  3.535389e+09  3.346317e+09  3.185605e+09  3.129538e+09   \n2    1.214448e+10  1.469733e+10  1.593680e+10  1.691113e+10  1.935220e+10   \n3    7.787420e+10  7.975320e+10  8.247091e+10  8.570262e+10  9.012096e+10   \n4    1.112752e+10  1.150029e+10  1.192695e+10  1.223109e+10  1.240477e+10   \n..            ...           ...           ...           ...           ...   \n259  2.872656e+10  2.991436e+10  3.090675e+10  2.624342e+10  2.689160e+10   \n260  3.699668e+11  3.642764e+11  3.753494e+11  3.874074e+11  3.960071e+11   \n261  1.863448e+10  1.916651e+10  2.052329e+10  2.193213e+10  2.350200e+10   \n262  1.682234e+10  1.837342e+10  2.026555e+10  2.140358e+10  2.302438e+10   \n263  7.982103e+09  8.459783e+09  9.422161e+09  1.054391e+10  1.165789e+10   \n\n             2013          2014          2015  \n0             NaN           NaN           NaN  \n1    3.127550e+09           NaN           NaN  \n2    1.973134e+10  1.999032e+10  2.029415e+10  \n3    9.626143e+10  1.008863e+11  1.039106e+11  \n4    1.254247e+10  1.279331e+10  1.312082e+10  \n..            ...           ...           ...  \n259  2.800914e+10           NaN           NaN  \n260  4.047682e+11  4.110369e+11  4.163117e+11  \n261  2.550050e+10  2.778776e+10  2.970961e+10  \n262  2.420595e+10  2.542227e+10  2.624127e+10  \n263  1.218064e+10  1.264939e+10  1.278517e+10  \n\n[264 rows x 60 columns]",
      "text/html": "<div>\n<style scoped>\n    .dataframe tbody tr th:only-of-type {\n        vertical-align: middle;\n    }\n\n    .dataframe tbody tr th {\n        vertical-align: top;\n    }\n\n    .dataframe thead th {\n        text-align: right;\n    }\n</style>\n<table border=\"1\" class=\"dataframe\">\n  <thead>\n    <tr style=\"text-align: right;\">\n      <th></th>\n      <th>Country Name</th>\n      <th>Country Code</th>\n      <th>Indicator Name</th>\n      <th>Indicator Code</th>\n      <th>1960</th>\n      <th>1961</th>\n      <th>1962</th>\n      <th>1963</th>\n      <th>1964</th>\n      <th>1965</th>\n      <th>...</th>\n      <th>2006</th>\n      <th>2007</th>\n      <th>2008</th>\n      <th>2009</th>\n      <th>2010</th>\n      <th>2011</th>\n      <th>2012</th>\n      <th>2013</th>\n      <th>2014</th>\n      <th>2015</th>\n    </tr>\n  </thead>\n  <tbody>\n    <tr>\n      <th>0</th>\n      <td>Aruba</td>\n      <td>ABW</td>\n      <td>GDP at market prices (constant 2010 US$)</td>\n      <td>NY.GDP.MKTP.KD</td>\n      <td>NaN</td>\n      <td>NaN</td>\n      <td>NaN</td>\n      <td>NaN</td>\n      <td>NaN</td>\n      <td>NaN</td>\n      <td>...</td>\n      <td>NaN</td>\n      <td>NaN</td>\n      <td>NaN</td>\n      <td>NaN</td>\n      <td>2.467704e+09</td>\n      <td>NaN</td>\n      <td>NaN</td>\n      <td>NaN</td>\n      <td>NaN</td>\n      <td>NaN</td>\n    </tr>\n    <tr>\n      <th>1</th>\n      <td>Andorra</td>\n      <td>AND</td>\n      <td>GDP at market prices (constant 2010 US$)</td>\n      <td>NY.GDP.MKTP.KD</td>\n      <td>NaN</td>\n      <td>NaN</td>\n      <td>NaN</td>\n      <td>NaN</td>\n      <td>NaN</td>\n      <td>NaN</td>\n      <td>...</td>\n      <td>4.018196e+09</td>\n      <td>4.021331e+09</td>\n      <td>3.675728e+09</td>\n      <td>3.535389e+09</td>\n      <td>3.346317e+09</td>\n      <td>3.185605e+09</td>\n      <td>3.129538e+09</td>\n      <td>3.127550e+09</td>\n      <td>NaN</td>\n      <td>NaN</td>\n    </tr>\n    <tr>\n      <th>2</th>\n      <td>Afghanistan</td>\n      <td>AFG</td>\n      <td>GDP at market prices (constant 2010 US$)</td>\n      <td>NY.GDP.MKTP.KD</td>\n      <td>NaN</td>\n      <td>NaN</td>\n      <td>NaN</td>\n      <td>NaN</td>\n      <td>NaN</td>\n      <td>NaN</td>\n      <td>...</td>\n      <td>1.030523e+10</td>\n      <td>1.172119e+10</td>\n      <td>1.214448e+10</td>\n      <td>1.469733e+10</td>\n      <td>1.593680e+10</td>\n      <td>1.691113e+10</td>\n      <td>1.935220e+10</td>\n      <td>1.973134e+10</td>\n      <td>1.999032e+10</td>\n      <td>2.029415e+10</td>\n    </tr>\n    <tr>\n      <th>3</th>\n      <td>Angola</td>\n      <td>AGO</td>\n      <td>GDP at market prices (constant 2010 US$)</td>\n      <td>NY.GDP.MKTP.KD</td>\n      <td>NaN</td>\n      <td>NaN</td>\n      <td>NaN</td>\n      <td>NaN</td>\n      <td>NaN</td>\n      <td>NaN</td>\n      <td>...</td>\n      <td>5.581103e+10</td>\n      <td>6.842044e+10</td>\n      <td>7.787420e+10</td>\n      <td>7.975320e+10</td>\n      <td>8.247091e+10</td>\n      <td>8.570262e+10</td>\n      <td>9.012096e+10</td>\n      <td>9.626143e+10</td>\n      <td>1.008863e+11</td>\n      <td>1.039106e+11</td>\n    </tr>\n    <tr>\n      <th>4</th>\n      <td>Albania</td>\n      <td>ALB</td>\n      <td>GDP at market prices (constant 2010 US$)</td>\n      <td>NY.GDP.MKTP.KD</td>\n      <td>NaN</td>\n      <td>NaN</td>\n      <td>NaN</td>\n      <td>NaN</td>\n      <td>NaN</td>\n      <td>NaN</td>\n      <td>...</td>\n      <td>9.771760e+09</td>\n      <td>1.034829e+10</td>\n      <td>1.112752e+10</td>\n      <td>1.150029e+10</td>\n      <td>1.192695e+10</td>\n      <td>1.223109e+10</td>\n      <td>1.240477e+10</td>\n      <td>1.254247e+10</td>\n      <td>1.279331e+10</td>\n      <td>1.312082e+10</td>\n    </tr>\n    <tr>\n      <th>...</th>\n      <td>...</td>\n      <td>...</td>\n      <td>...</td>\n      <td>...</td>\n      <td>...</td>\n      <td>...</td>\n      <td>...</td>\n      <td>...</td>\n      <td>...</td>\n      <td>...</td>\n      <td>...</td>\n      <td>...</td>\n      <td>...</td>\n      <td>...</td>\n      <td>...</td>\n      <td>...</td>\n      <td>...</td>\n      <td>...</td>\n      <td>...</td>\n      <td>...</td>\n      <td>...</td>\n    </tr>\n    <tr>\n      <th>259</th>\n      <td>Yemen, Rep.</td>\n      <td>YEM</td>\n      <td>GDP at market prices (constant 2010 US$)</td>\n      <td>NY.GDP.MKTP.KD</td>\n      <td>NaN</td>\n      <td>NaN</td>\n      <td>NaN</td>\n      <td>NaN</td>\n      <td>NaN</td>\n      <td>NaN</td>\n      <td>...</td>\n      <td>2.672565e+10</td>\n      <td>2.761787e+10</td>\n      <td>2.872656e+10</td>\n      <td>2.991436e+10</td>\n      <td>3.090675e+10</td>\n      <td>2.624342e+10</td>\n      <td>2.689160e+10</td>\n      <td>2.800914e+10</td>\n      <td>NaN</td>\n      <td>NaN</td>\n    </tr>\n    <tr>\n      <th>260</th>\n      <td>South Africa</td>\n      <td>ZAF</td>\n      <td>GDP at market prices (constant 2010 US$)</td>\n      <td>NY.GDP.MKTP.KD</td>\n      <td>7.707081e+10</td>\n      <td>8.003449e+10</td>\n      <td>8.497844e+10</td>\n      <td>9.124438e+10</td>\n      <td>9.848904e+10</td>\n      <td>1.072507e+11</td>\n      <td>...</td>\n      <td>3.402852e+11</td>\n      <td>3.585261e+11</td>\n      <td>3.699668e+11</td>\n      <td>3.642764e+11</td>\n      <td>3.753494e+11</td>\n      <td>3.874074e+11</td>\n      <td>3.960071e+11</td>\n      <td>4.047682e+11</td>\n      <td>4.110369e+11</td>\n      <td>4.163117e+11</td>\n    </tr>\n    <tr>\n      <th>261</th>\n      <td>Congo, Dem. Rep.</td>\n      <td>COD</td>\n      <td>GDP at market prices (constant 2010 US$)</td>\n      <td>NY.GDP.MKTP.KD</td>\n      <td>1.508024e+10</td>\n      <td>1.344383e+10</td>\n      <td>1.629401e+10</td>\n      <td>1.714358e+10</td>\n      <td>1.672524e+10</td>\n      <td>1.689205e+10</td>\n      <td>...</td>\n      <td>1.650894e+10</td>\n      <td>1.754232e+10</td>\n      <td>1.863448e+10</td>\n      <td>1.916651e+10</td>\n      <td>2.052329e+10</td>\n      <td>2.193213e+10</td>\n      <td>2.350200e+10</td>\n      <td>2.550050e+10</td>\n      <td>2.778776e+10</td>\n      <td>2.970961e+10</td>\n    </tr>\n    <tr>\n      <th>262</th>\n      <td>Zambia</td>\n      <td>ZMB</td>\n      <td>GDP at market prices (constant 2010 US$)</td>\n      <td>NY.GDP.MKTP.KD</td>\n      <td>4.592975e+09</td>\n      <td>4.655503e+09</td>\n      <td>4.539542e+09</td>\n      <td>4.688093e+09</td>\n      <td>5.260699e+09</td>\n      <td>6.136472e+09</td>\n      <td>...</td>\n      <td>1.440569e+10</td>\n      <td>1.560892e+10</td>\n      <td>1.682234e+10</td>\n      <td>1.837342e+10</td>\n      <td>2.026555e+10</td>\n      <td>2.140358e+10</td>\n      <td>2.302438e+10</td>\n      <td>2.420595e+10</td>\n      <td>2.542227e+10</td>\n      <td>2.624127e+10</td>\n    </tr>\n    <tr>\n      <th>263</th>\n      <td>Zimbabwe</td>\n      <td>ZWE</td>\n      <td>GDP at market prices (constant 2010 US$)</td>\n      <td>NY.GDP.MKTP.KD</td>\n      <td>3.338344e+09</td>\n      <td>3.549199e+09</td>\n      <td>3.600111e+09</td>\n      <td>3.824915e+09</td>\n      <td>3.782605e+09</td>\n      <td>3.968352e+09</td>\n      <td>...</td>\n      <td>1.006276e+10</td>\n      <td>9.695130e+09</td>\n      <td>7.982103e+09</td>\n      <td>8.459783e+09</td>\n      <td>9.422161e+09</td>\n      <td>1.054391e+10</td>\n      <td>1.165789e+10</td>\n      <td>1.218064e+10</td>\n      <td>1.264939e+10</td>\n      <td>1.278517e+10</td>\n    </tr>\n  </tbody>\n</table>\n<p>264 rows × 60 columns</p>\n</div>"
     },
     "execution_count": 13,
     "metadata": {},
     "output_type": "execute_result"
    }
   ],
   "source": [
    "data2"
   ],
   "metadata": {
    "collapsed": false,
    "ExecuteTime": {
     "end_time": "2023-11-28T12:57:43.987341600Z",
     "start_time": "2023-11-28T12:57:43.948704500Z"
    }
   },
   "id": "b47265f00dc6c0b6"
  },
  {
   "cell_type": "markdown",
   "source": [
    "## Data set 3"
   ],
   "metadata": {
    "collapsed": false
   },
   "id": "23281bb499725ae4"
  },
  {
   "cell_type": "code",
   "execution_count": 14,
   "outputs": [
    {
     "data": {
      "text/plain": "     Rank             Country  Documents  Citable documents  Citations  \\\n0       1               China     127050             126767     597237   \n1       2       United States      96661              94747     792274   \n2       3               Japan      30504              30287     223024   \n3       4      United Kingdom      20944              20357     206091   \n4       5  Russian Federation      18534              18301      34266   \n..    ...                 ...        ...                ...        ...   \n186   187              Guyana          1                  1          0   \n187   188    Christmas Island          1                  1          0   \n188   189             Reunion          1                  1          2   \n189   190         Saint Lucia          1                  1          0   \n190   191          Mauritania          1                  1          1   \n\n     Self-citations  Citations per document  H index  \n0            411683                    4.70      138  \n1            265436                    8.20      230  \n2             61554                    7.31      134  \n3             37874                    9.84      139  \n4             12422                    1.85       57  \n..              ...                     ...      ...  \n186               0                    0.00        0  \n187               0                    0.00        0  \n188               1                    2.00        1  \n189               0                    0.00        0  \n190               0                    1.00        1  \n\n[191 rows x 8 columns]",
      "text/html": "<div>\n<style scoped>\n    .dataframe tbody tr th:only-of-type {\n        vertical-align: middle;\n    }\n\n    .dataframe tbody tr th {\n        vertical-align: top;\n    }\n\n    .dataframe thead th {\n        text-align: right;\n    }\n</style>\n<table border=\"1\" class=\"dataframe\">\n  <thead>\n    <tr style=\"text-align: right;\">\n      <th></th>\n      <th>Rank</th>\n      <th>Country</th>\n      <th>Documents</th>\n      <th>Citable documents</th>\n      <th>Citations</th>\n      <th>Self-citations</th>\n      <th>Citations per document</th>\n      <th>H index</th>\n    </tr>\n  </thead>\n  <tbody>\n    <tr>\n      <th>0</th>\n      <td>1</td>\n      <td>China</td>\n      <td>127050</td>\n      <td>126767</td>\n      <td>597237</td>\n      <td>411683</td>\n      <td>4.70</td>\n      <td>138</td>\n    </tr>\n    <tr>\n      <th>1</th>\n      <td>2</td>\n      <td>United States</td>\n      <td>96661</td>\n      <td>94747</td>\n      <td>792274</td>\n      <td>265436</td>\n      <td>8.20</td>\n      <td>230</td>\n    </tr>\n    <tr>\n      <th>2</th>\n      <td>3</td>\n      <td>Japan</td>\n      <td>30504</td>\n      <td>30287</td>\n      <td>223024</td>\n      <td>61554</td>\n      <td>7.31</td>\n      <td>134</td>\n    </tr>\n    <tr>\n      <th>3</th>\n      <td>4</td>\n      <td>United Kingdom</td>\n      <td>20944</td>\n      <td>20357</td>\n      <td>206091</td>\n      <td>37874</td>\n      <td>9.84</td>\n      <td>139</td>\n    </tr>\n    <tr>\n      <th>4</th>\n      <td>5</td>\n      <td>Russian Federation</td>\n      <td>18534</td>\n      <td>18301</td>\n      <td>34266</td>\n      <td>12422</td>\n      <td>1.85</td>\n      <td>57</td>\n    </tr>\n    <tr>\n      <th>...</th>\n      <td>...</td>\n      <td>...</td>\n      <td>...</td>\n      <td>...</td>\n      <td>...</td>\n      <td>...</td>\n      <td>...</td>\n      <td>...</td>\n    </tr>\n    <tr>\n      <th>186</th>\n      <td>187</td>\n      <td>Guyana</td>\n      <td>1</td>\n      <td>1</td>\n      <td>0</td>\n      <td>0</td>\n      <td>0.00</td>\n      <td>0</td>\n    </tr>\n    <tr>\n      <th>187</th>\n      <td>188</td>\n      <td>Christmas Island</td>\n      <td>1</td>\n      <td>1</td>\n      <td>0</td>\n      <td>0</td>\n      <td>0.00</td>\n      <td>0</td>\n    </tr>\n    <tr>\n      <th>188</th>\n      <td>189</td>\n      <td>Reunion</td>\n      <td>1</td>\n      <td>1</td>\n      <td>2</td>\n      <td>1</td>\n      <td>2.00</td>\n      <td>1</td>\n    </tr>\n    <tr>\n      <th>189</th>\n      <td>190</td>\n      <td>Saint Lucia</td>\n      <td>1</td>\n      <td>1</td>\n      <td>0</td>\n      <td>0</td>\n      <td>0.00</td>\n      <td>0</td>\n    </tr>\n    <tr>\n      <th>190</th>\n      <td>191</td>\n      <td>Mauritania</td>\n      <td>1</td>\n      <td>1</td>\n      <td>1</td>\n      <td>0</td>\n      <td>1.00</td>\n      <td>1</td>\n    </tr>\n  </tbody>\n</table>\n<p>191 rows × 8 columns</p>\n</div>"
     },
     "execution_count": 14,
     "metadata": {},
     "output_type": "execute_result"
    }
   ],
   "source": [
    "data3"
   ],
   "metadata": {
    "collapsed": false,
    "ExecuteTime": {
     "end_time": "2023-11-28T12:57:53.974316Z",
     "start_time": "2023-11-28T12:57:53.929050600Z"
    }
   },
   "id": "4bae53b357bf1bdc"
  },
  {
   "cell_type": "markdown",
   "source": [
    "# Завдання 7\n",
    "## Приєднайте три набори даних із завдань 1-6 до нового набору даних (використовуючи перетин назв країн).\n",
    "## - Використовуйте лише дані про ВВП за останні 10 років (2006-2015 рр.) і лише 15 найкращих країн за рейтингом Scimagojr (Rank від 1 до 15) \n",
    "## - Індексом цього DataFrame повинна бути назва країни, а стовпцями мають бути ['Rank', 'Documents', 'Citable documents', 'Citations', 'Self-citations','Citations per document', 'H index', 'Energy Supply', 'Energy Supply per Capita', '%Renewable', '2006', '2007', '2008', '2009', '2010', '2011', '2012', '2013', '2014', '2015']. Ви повинні отримати DataFrame з 15 рядками та 20 стовпцями."
   ],
   "metadata": {
    "collapsed": false
   },
   "id": "ac589cd015439aa"
  },
  {
   "cell_type": "code",
   "execution_count": 15,
   "outputs": [
    {
     "data": {
      "text/plain": "               Country  Rank  Documents  Citable documents  Citations  \\\n0                China     1     127050             126767     597237   \n1        United States     2      96661              94747     792274   \n2                Japan     3      30504              30287     223024   \n3       United Kingdom     4      20944              20357     206091   \n4   Russian Federation     5      18534              18301      34266   \n5               Canada     6      17899              17620     215003   \n6              Germany     7      17027              16831     140566   \n7                India     8      15005              14841     128763   \n8               France     9      13153              12973     130632   \n9          South Korea    10      11983              11923     114675   \n10               Italy    11      10964              10794     111850   \n11               Spain    12       9428               9330     123336   \n12                Iran    13       8896               8819      57470   \n13           Australia    14       8831               8725      90765   \n14              Brazil    15       8668               8596      60702   \n\n    Self-citations  Citations per document  H index Energy Supply  \\\n0           411683                    4.70      138  127191000000   \n1           265436                    8.20      230   90838000000   \n2            61554                    7.31      134   18984000000   \n3            37874                    9.84      139    7920000000   \n4            12422                    1.85       57   30709000000   \n5            40930                   12.01      149   10431000000   \n6            27426                    8.26      126   13261000000   \n7            37209                    8.58      115   33195000000   \n8            28601                    9.93      114   10597000000   \n9            22595                    9.57      104   11007000000   \n10           26661                   10.20      106    6530000000   \n11           23964                   13.08      115    4923000000   \n12           19125                    6.46       72    9172000000   \n13           15606                   10.28      107    5386000000   \n14           14396                    7.00       86   12149000000   \n\n   Energy Supply per Capita  ...          2006          2007          2008  \\\n0                        93  ...  3.992331e+12  4.559041e+12  4.997775e+12   \n1                       286  ...  1.479230e+13  1.505540e+13  1.501149e+13   \n2                       149  ...  5.496542e+12  5.617036e+12  5.558527e+12   \n3                       124  ...  2.419631e+12  2.482203e+12  2.470614e+12   \n4                       214  ...  1.385793e+12  1.504071e+12  1.583004e+12   \n5                       296  ...  1.564469e+12  1.596740e+12  1.612713e+12   \n6                       165  ...  3.332891e+12  3.441561e+12  3.478809e+12   \n7                        26  ...  1.265894e+12  1.374865e+12  1.428361e+12   \n8                       166  ...  2.607840e+12  2.669424e+12  2.674637e+12   \n9                       221  ...  9.410199e+11  9.924316e+11  1.020510e+12   \n10                      109  ...  2.202170e+12  2.234627e+12  2.211154e+12   \n11                      106  ...  1.414823e+12  1.468146e+12  1.484530e+12   \n12                      119  ...  3.895523e+11  4.250646e+11  4.289909e+11   \n13                      231  ...  1.021939e+12  1.060340e+12  1.099644e+12   \n14                       59  ...  1.845080e+12  1.957118e+12  2.056809e+12   \n\n            2009          2010          2011          2012          2013  \\\n0   5.459247e+12  6.039659e+12  6.612490e+12  7.124978e+12  7.672448e+12   \n1   1.459484e+13  1.496437e+13  1.520402e+13  1.554216e+13  1.577367e+13   \n2   5.251308e+12  5.498718e+12  5.473738e+12  5.569102e+12  5.644659e+12   \n3   2.367048e+12  2.403504e+12  2.450911e+12  2.479809e+12  2.533370e+12   \n4   1.459199e+12  1.524917e+12  1.589943e+12  1.645876e+12  1.666934e+12   \n5   1.565145e+12  1.613406e+12  1.664087e+12  1.693133e+12  1.730688e+12   \n6   3.283340e+12  3.417298e+12  3.542371e+12  3.556724e+12  3.567317e+12   \n7   1.549483e+12  1.708459e+12  1.821872e+12  1.924235e+12  2.051982e+12   \n8   2.595967e+12  2.646995e+12  2.702032e+12  2.706968e+12  2.722567e+12   \n9   1.027730e+12  1.094499e+12  1.134796e+12  1.160809e+12  1.194429e+12   \n10  2.089938e+12  2.125185e+12  2.137439e+12  2.077184e+12  2.040871e+12   \n11  1.431475e+12  1.431673e+12  1.417355e+12  1.380216e+12  1.357139e+12   \n12  4.389208e+11  4.677902e+11  4.853309e+11  4.532569e+11  4.445926e+11   \n13  1.119654e+12  1.142251e+12  1.169431e+12  1.211913e+12  1.241484e+12   \n14  2.054215e+12  2.208872e+12  2.295245e+12  2.339209e+12  2.409740e+12   \n\n            2014          2015  \n0   8.230121e+12  8.797999e+12  \n1   1.615662e+13  1.654857e+13  \n2   5.642884e+12  5.669563e+12  \n3   2.605643e+12  2.666333e+12  \n4   1.678709e+12  1.616149e+12  \n5   1.773486e+12  1.792609e+12  \n6   3.624386e+12  3.685556e+12  \n7   2.200617e+12  2.367206e+12  \n8   2.729632e+12  2.761185e+12  \n9   1.234340e+12  1.266580e+12  \n10  2.033868e+12  2.049316e+12  \n11  1.375605e+12  1.419821e+12  \n12  4.639027e+11           NaN  \n13  1.272520e+12  1.301251e+12  \n14  2.412231e+12  2.319423e+12  \n\n[15 rows x 21 columns]",
      "text/html": "<div>\n<style scoped>\n    .dataframe tbody tr th:only-of-type {\n        vertical-align: middle;\n    }\n\n    .dataframe tbody tr th {\n        vertical-align: top;\n    }\n\n    .dataframe thead th {\n        text-align: right;\n    }\n</style>\n<table border=\"1\" class=\"dataframe\">\n  <thead>\n    <tr style=\"text-align: right;\">\n      <th></th>\n      <th>Country</th>\n      <th>Rank</th>\n      <th>Documents</th>\n      <th>Citable documents</th>\n      <th>Citations</th>\n      <th>Self-citations</th>\n      <th>Citations per document</th>\n      <th>H index</th>\n      <th>Energy Supply</th>\n      <th>Energy Supply per Capita</th>\n      <th>...</th>\n      <th>2006</th>\n      <th>2007</th>\n      <th>2008</th>\n      <th>2009</th>\n      <th>2010</th>\n      <th>2011</th>\n      <th>2012</th>\n      <th>2013</th>\n      <th>2014</th>\n      <th>2015</th>\n    </tr>\n  </thead>\n  <tbody>\n    <tr>\n      <th>0</th>\n      <td>China</td>\n      <td>1</td>\n      <td>127050</td>\n      <td>126767</td>\n      <td>597237</td>\n      <td>411683</td>\n      <td>4.70</td>\n      <td>138</td>\n      <td>127191000000</td>\n      <td>93</td>\n      <td>...</td>\n      <td>3.992331e+12</td>\n      <td>4.559041e+12</td>\n      <td>4.997775e+12</td>\n      <td>5.459247e+12</td>\n      <td>6.039659e+12</td>\n      <td>6.612490e+12</td>\n      <td>7.124978e+12</td>\n      <td>7.672448e+12</td>\n      <td>8.230121e+12</td>\n      <td>8.797999e+12</td>\n    </tr>\n    <tr>\n      <th>1</th>\n      <td>United States</td>\n      <td>2</td>\n      <td>96661</td>\n      <td>94747</td>\n      <td>792274</td>\n      <td>265436</td>\n      <td>8.20</td>\n      <td>230</td>\n      <td>90838000000</td>\n      <td>286</td>\n      <td>...</td>\n      <td>1.479230e+13</td>\n      <td>1.505540e+13</td>\n      <td>1.501149e+13</td>\n      <td>1.459484e+13</td>\n      <td>1.496437e+13</td>\n      <td>1.520402e+13</td>\n      <td>1.554216e+13</td>\n      <td>1.577367e+13</td>\n      <td>1.615662e+13</td>\n      <td>1.654857e+13</td>\n    </tr>\n    <tr>\n      <th>2</th>\n      <td>Japan</td>\n      <td>3</td>\n      <td>30504</td>\n      <td>30287</td>\n      <td>223024</td>\n      <td>61554</td>\n      <td>7.31</td>\n      <td>134</td>\n      <td>18984000000</td>\n      <td>149</td>\n      <td>...</td>\n      <td>5.496542e+12</td>\n      <td>5.617036e+12</td>\n      <td>5.558527e+12</td>\n      <td>5.251308e+12</td>\n      <td>5.498718e+12</td>\n      <td>5.473738e+12</td>\n      <td>5.569102e+12</td>\n      <td>5.644659e+12</td>\n      <td>5.642884e+12</td>\n      <td>5.669563e+12</td>\n    </tr>\n    <tr>\n      <th>3</th>\n      <td>United Kingdom</td>\n      <td>4</td>\n      <td>20944</td>\n      <td>20357</td>\n      <td>206091</td>\n      <td>37874</td>\n      <td>9.84</td>\n      <td>139</td>\n      <td>7920000000</td>\n      <td>124</td>\n      <td>...</td>\n      <td>2.419631e+12</td>\n      <td>2.482203e+12</td>\n      <td>2.470614e+12</td>\n      <td>2.367048e+12</td>\n      <td>2.403504e+12</td>\n      <td>2.450911e+12</td>\n      <td>2.479809e+12</td>\n      <td>2.533370e+12</td>\n      <td>2.605643e+12</td>\n      <td>2.666333e+12</td>\n    </tr>\n    <tr>\n      <th>4</th>\n      <td>Russian Federation</td>\n      <td>5</td>\n      <td>18534</td>\n      <td>18301</td>\n      <td>34266</td>\n      <td>12422</td>\n      <td>1.85</td>\n      <td>57</td>\n      <td>30709000000</td>\n      <td>214</td>\n      <td>...</td>\n      <td>1.385793e+12</td>\n      <td>1.504071e+12</td>\n      <td>1.583004e+12</td>\n      <td>1.459199e+12</td>\n      <td>1.524917e+12</td>\n      <td>1.589943e+12</td>\n      <td>1.645876e+12</td>\n      <td>1.666934e+12</td>\n      <td>1.678709e+12</td>\n      <td>1.616149e+12</td>\n    </tr>\n    <tr>\n      <th>5</th>\n      <td>Canada</td>\n      <td>6</td>\n      <td>17899</td>\n      <td>17620</td>\n      <td>215003</td>\n      <td>40930</td>\n      <td>12.01</td>\n      <td>149</td>\n      <td>10431000000</td>\n      <td>296</td>\n      <td>...</td>\n      <td>1.564469e+12</td>\n      <td>1.596740e+12</td>\n      <td>1.612713e+12</td>\n      <td>1.565145e+12</td>\n      <td>1.613406e+12</td>\n      <td>1.664087e+12</td>\n      <td>1.693133e+12</td>\n      <td>1.730688e+12</td>\n      <td>1.773486e+12</td>\n      <td>1.792609e+12</td>\n    </tr>\n    <tr>\n      <th>6</th>\n      <td>Germany</td>\n      <td>7</td>\n      <td>17027</td>\n      <td>16831</td>\n      <td>140566</td>\n      <td>27426</td>\n      <td>8.26</td>\n      <td>126</td>\n      <td>13261000000</td>\n      <td>165</td>\n      <td>...</td>\n      <td>3.332891e+12</td>\n      <td>3.441561e+12</td>\n      <td>3.478809e+12</td>\n      <td>3.283340e+12</td>\n      <td>3.417298e+12</td>\n      <td>3.542371e+12</td>\n      <td>3.556724e+12</td>\n      <td>3.567317e+12</td>\n      <td>3.624386e+12</td>\n      <td>3.685556e+12</td>\n    </tr>\n    <tr>\n      <th>7</th>\n      <td>India</td>\n      <td>8</td>\n      <td>15005</td>\n      <td>14841</td>\n      <td>128763</td>\n      <td>37209</td>\n      <td>8.58</td>\n      <td>115</td>\n      <td>33195000000</td>\n      <td>26</td>\n      <td>...</td>\n      <td>1.265894e+12</td>\n      <td>1.374865e+12</td>\n      <td>1.428361e+12</td>\n      <td>1.549483e+12</td>\n      <td>1.708459e+12</td>\n      <td>1.821872e+12</td>\n      <td>1.924235e+12</td>\n      <td>2.051982e+12</td>\n      <td>2.200617e+12</td>\n      <td>2.367206e+12</td>\n    </tr>\n    <tr>\n      <th>8</th>\n      <td>France</td>\n      <td>9</td>\n      <td>13153</td>\n      <td>12973</td>\n      <td>130632</td>\n      <td>28601</td>\n      <td>9.93</td>\n      <td>114</td>\n      <td>10597000000</td>\n      <td>166</td>\n      <td>...</td>\n      <td>2.607840e+12</td>\n      <td>2.669424e+12</td>\n      <td>2.674637e+12</td>\n      <td>2.595967e+12</td>\n      <td>2.646995e+12</td>\n      <td>2.702032e+12</td>\n      <td>2.706968e+12</td>\n      <td>2.722567e+12</td>\n      <td>2.729632e+12</td>\n      <td>2.761185e+12</td>\n    </tr>\n    <tr>\n      <th>9</th>\n      <td>South Korea</td>\n      <td>10</td>\n      <td>11983</td>\n      <td>11923</td>\n      <td>114675</td>\n      <td>22595</td>\n      <td>9.57</td>\n      <td>104</td>\n      <td>11007000000</td>\n      <td>221</td>\n      <td>...</td>\n      <td>9.410199e+11</td>\n      <td>9.924316e+11</td>\n      <td>1.020510e+12</td>\n      <td>1.027730e+12</td>\n      <td>1.094499e+12</td>\n      <td>1.134796e+12</td>\n      <td>1.160809e+12</td>\n      <td>1.194429e+12</td>\n      <td>1.234340e+12</td>\n      <td>1.266580e+12</td>\n    </tr>\n    <tr>\n      <th>10</th>\n      <td>Italy</td>\n      <td>11</td>\n      <td>10964</td>\n      <td>10794</td>\n      <td>111850</td>\n      <td>26661</td>\n      <td>10.20</td>\n      <td>106</td>\n      <td>6530000000</td>\n      <td>109</td>\n      <td>...</td>\n      <td>2.202170e+12</td>\n      <td>2.234627e+12</td>\n      <td>2.211154e+12</td>\n      <td>2.089938e+12</td>\n      <td>2.125185e+12</td>\n      <td>2.137439e+12</td>\n      <td>2.077184e+12</td>\n      <td>2.040871e+12</td>\n      <td>2.033868e+12</td>\n      <td>2.049316e+12</td>\n    </tr>\n    <tr>\n      <th>11</th>\n      <td>Spain</td>\n      <td>12</td>\n      <td>9428</td>\n      <td>9330</td>\n      <td>123336</td>\n      <td>23964</td>\n      <td>13.08</td>\n      <td>115</td>\n      <td>4923000000</td>\n      <td>106</td>\n      <td>...</td>\n      <td>1.414823e+12</td>\n      <td>1.468146e+12</td>\n      <td>1.484530e+12</td>\n      <td>1.431475e+12</td>\n      <td>1.431673e+12</td>\n      <td>1.417355e+12</td>\n      <td>1.380216e+12</td>\n      <td>1.357139e+12</td>\n      <td>1.375605e+12</td>\n      <td>1.419821e+12</td>\n    </tr>\n    <tr>\n      <th>12</th>\n      <td>Iran</td>\n      <td>13</td>\n      <td>8896</td>\n      <td>8819</td>\n      <td>57470</td>\n      <td>19125</td>\n      <td>6.46</td>\n      <td>72</td>\n      <td>9172000000</td>\n      <td>119</td>\n      <td>...</td>\n      <td>3.895523e+11</td>\n      <td>4.250646e+11</td>\n      <td>4.289909e+11</td>\n      <td>4.389208e+11</td>\n      <td>4.677902e+11</td>\n      <td>4.853309e+11</td>\n      <td>4.532569e+11</td>\n      <td>4.445926e+11</td>\n      <td>4.639027e+11</td>\n      <td>NaN</td>\n    </tr>\n    <tr>\n      <th>13</th>\n      <td>Australia</td>\n      <td>14</td>\n      <td>8831</td>\n      <td>8725</td>\n      <td>90765</td>\n      <td>15606</td>\n      <td>10.28</td>\n      <td>107</td>\n      <td>5386000000</td>\n      <td>231</td>\n      <td>...</td>\n      <td>1.021939e+12</td>\n      <td>1.060340e+12</td>\n      <td>1.099644e+12</td>\n      <td>1.119654e+12</td>\n      <td>1.142251e+12</td>\n      <td>1.169431e+12</td>\n      <td>1.211913e+12</td>\n      <td>1.241484e+12</td>\n      <td>1.272520e+12</td>\n      <td>1.301251e+12</td>\n    </tr>\n    <tr>\n      <th>14</th>\n      <td>Brazil</td>\n      <td>15</td>\n      <td>8668</td>\n      <td>8596</td>\n      <td>60702</td>\n      <td>14396</td>\n      <td>7.00</td>\n      <td>86</td>\n      <td>12149000000</td>\n      <td>59</td>\n      <td>...</td>\n      <td>1.845080e+12</td>\n      <td>1.957118e+12</td>\n      <td>2.056809e+12</td>\n      <td>2.054215e+12</td>\n      <td>2.208872e+12</td>\n      <td>2.295245e+12</td>\n      <td>2.339209e+12</td>\n      <td>2.409740e+12</td>\n      <td>2.412231e+12</td>\n      <td>2.319423e+12</td>\n    </tr>\n  </tbody>\n</table>\n<p>15 rows × 21 columns</p>\n</div>"
     },
     "execution_count": 15,
     "metadata": {},
     "output_type": "execute_result"
    }
   ],
   "source": [
    "top15 = data3.head(15)\n",
    "\n",
    "gdp = data2[['Country Name', '2006', '2007', '2008', '2009', '2010', '2011', '2012', '2013', '2014', '2015']]\n",
    "gdp.set_index('Country Name', inplace=True)\n",
    "\n",
    "energy = data1[['Country', 'Energy Supply', 'Energy Supply per Capita', '% Renewable']]\n",
    "energy.set_index('Country', inplace=True)\n",
    "\n",
    "merged = top15.merge(gdp, how='inner', left_on='Country', right_index=True).merge(energy, how='inner', left_on='Country', right_index=True)\n",
    "\n",
    "merged.reset_index(inplace=True)\n",
    "\n",
    "merged = merged[['Country', 'Rank', 'Documents', 'Citable documents', 'Citations', 'Self-citations',\n",
    "                 'Citations per document', 'H index', 'Energy Supply', 'Energy Supply per Capita', '% Renewable',\n",
    "                 '2006', '2007', '2008', '2009', '2010', '2011', '2012', '2013', '2014', '2015']]\n",
    "merged"
   ],
   "metadata": {
    "collapsed": false,
    "ExecuteTime": {
     "end_time": "2023-11-28T12:59:16.008347700Z",
     "start_time": "2023-11-28T12:59:15.931641900Z"
    }
   },
   "id": "3c01f03303970833"
  },
  {
   "cell_type": "markdown",
   "source": [
    "# Завдання 8 – 14 слід розв’язувати за допомогою датафрейму із завдання 7."
   ],
   "metadata": {
    "collapsed": false
   },
   "id": "aa80f7f8e6299aa1"
  },
  {
   "cell_type": "markdown",
   "source": [
    "# Завдання 8\n",
    "## Створіть функцію, щоб визначити середній ВВП країн за останні 10 років. Ця функція повинна повертати об’єкт Series з 15 країнами та їх середній ВВП, відсортований за спаданням."
   ],
   "metadata": {
    "collapsed": false
   },
   "id": "d0fcb53ad477cd6d"
  },
  {
   "cell_type": "code",
   "execution_count": 16,
   "outputs": [
    {
     "data": {
      "text/plain": "Country\nUnited States        15364344302990.00\nChina                 6348608932836.10\nJapan                 5542207638235.18\nGermany               3493025339072.85\nFrance                2681724635761.59\nUnited Kingdom        2487906661418.42\nBrazil                2189794143774.91\nItaly                 2120175089933.78\nIndia                 1769297396603.86\nCanada                1660647466307.51\nRussian Federation    1565459478480.66\nSpain                 1418078278145.69\nAustralia             1164042729991.43\nSouth Korea           1106714508244.85\nIran                   444155754051.09\ndtype: float64"
     },
     "execution_count": 16,
     "metadata": {},
     "output_type": "execute_result"
    }
   ],
   "source": [
    "pd.options.display.float_format = '{:.2f}'.format\n",
    "def average_GDP(df):\n",
    "    gdp_years = df[['Country', '2006', '2007', '2008', '2009', '2010', '2011', '2012', '2013', '2014', '2015']]\n",
    "    gdp_values = gdp_years.drop('Country', axis=1)\n",
    "    avg_gdp = gdp_values.mean(axis=1)\n",
    "    avg_gdp_with_countries = pd.Series(avg_gdp.values, index=gdp_years['Country'])\n",
    "    avg_gdp_sorted = avg_gdp_with_countries.sort_values(ascending=False)\n",
    "    return avg_gdp_sorted\n",
    "avg_GDP = average_GDP(merged)\n",
    "avg_GDP"
   ],
   "metadata": {
    "collapsed": false,
    "ExecuteTime": {
     "end_time": "2023-11-28T13:01:02.966323Z",
     "start_time": "2023-11-28T13:01:02.941045Z"
    }
   },
   "id": "e7d2d7f61c98ea78"
  },
  {
   "cell_type": "markdown",
   "source": [
    "# Завдання 9\n",
    "## Створіть функцію, щоб визначити, наскільки змінився ВВП за останні 10 років для країни з 5-м середнім ВВП.\n",
    "## Ця функція повинна повертати кортеж із назвою країни та значенням, на яке змінився ВВП."
   ],
   "metadata": {
    "collapsed": false
   },
   "id": "27c5d66de008d41e"
  },
  {
   "cell_type": "code",
   "execution_count": 17,
   "outputs": [
    {
     "data": {
      "text/plain": "('France', 153345695364.24023)"
     },
     "execution_count": 17,
     "metadata": {},
     "output_type": "execute_result"
    }
   ],
   "source": [
    "def GDP_change_5th(df):\n",
    "    avg_GDP = average_GDP(df)\n",
    "    fifth_country = avg_GDP.index[4]\n",
    "    gdp_fifth_country = df[df['Country'] == fifth_country][['2006', '2007', '2008', '2009', '2010', '2011', '2012', '2013', '2014', '2015']]\n",
    "    GDP_change = gdp_fifth_country.values.flatten()[-1] - gdp_fifth_country.values.flatten()[0]\n",
    "    return (fifth_country, GDP_change)\n",
    "GDP_change_5th_country = GDP_change_5th(merged)\n",
    "GDP_change_5th_country"
   ],
   "metadata": {
    "collapsed": false,
    "ExecuteTime": {
     "end_time": "2023-11-28T13:01:43.213457300Z",
     "start_time": "2023-11-28T13:01:43.181668Z"
    }
   },
   "id": "a84ba3e05352de5"
  },
  {
   "cell_type": "markdown",
   "source": [
    "# Завдання 10\n",
    "## Створіть функцію, щоб визначити, в якій країні встановлено максимум поновлюваних джерел енергії (% Renewable) та який саме відсоток. Ця функція повинна повертати кортеж із назвою країни та відсотком."
   ],
   "metadata": {
    "collapsed": false
   },
   "id": "e4649719be3281be"
  },
  {
   "cell_type": "code",
   "execution_count": 18,
   "outputs": [
    {
     "data": {
      "text/plain": "('Brazil', 69.64803)"
     },
     "execution_count": 18,
     "metadata": {},
     "output_type": "execute_result"
    }
   ],
   "source": [
    "def max_renewable_energy(df):\n",
    "    max_renewable = df.loc[df['% Renewable'].idxmax()]\n",
    "    country = max_renewable['Country']\n",
    "    percentage = max_renewable['% Renewable']\n",
    "    return (country, percentage)\n",
    "max_renewable = max_renewable_energy(merged)\n",
    "max_renewable"
   ],
   "metadata": {
    "collapsed": false,
    "ExecuteTime": {
     "end_time": "2023-11-28T13:03:22.740090200Z",
     "start_time": "2023-11-28T13:03:22.711536800Z"
    }
   },
   "id": "820b62a8f87038aa"
  },
  {
   "cell_type": "markdown",
   "source": [
    "# Завдання 11\n",
    "## Створіть стовпець, в якому оцінюється чисельність населення. Для пошуку оцінки використовуйте значення енергопостачання (Energy Supply) та енергопостачання на душу населення (Energy Supply per capita). Яка країна є шостою за цією оцінкою? Ця функція повинна повертати кортеж із назвою країни та населенням"
   ],
   "metadata": {
    "collapsed": false
   },
   "id": "8841f538a11d1477"
  },
  {
   "cell_type": "code",
   "execution_count": 19,
   "outputs": [
    {
     "data": {
      "text/plain": "('Japan', 127409395.97315437)"
     },
     "execution_count": 19,
     "metadata": {},
     "output_type": "execute_result"
    }
   ],
   "source": [
    "def sixth_largest_population(data):\n",
    "    data['Population Estimate'] = data['Energy Supply'] / data['Energy Supply per Capita']\n",
    "    sorted_data = data.sort_values('Population Estimate', ascending=False)\n",
    "    sixth_country = sorted_data.iloc[5]\n",
    "    result = (sixth_country['Country'], sixth_country['Population Estimate'])\n",
    "    return result\n",
    "result_tuple = sixth_largest_population(merged)\n",
    "result_tuple"
   ],
   "metadata": {
    "collapsed": false,
    "ExecuteTime": {
     "end_time": "2023-11-28T13:03:58.496554Z",
     "start_time": "2023-11-28T13:03:58.475427300Z"
    }
   },
   "id": "d4db6db61661177a"
  },
  {
   "cell_type": "markdown",
   "source": [
    "# Завдання 12\n",
    "## Створіть стовпець, в якому оцінюється кількість цитованих документів на одну особу. Який взаємозв'язок між кількістю цитованих документів на душу населення та енергозабезпеченням на душу населення? Використовуйте метод .corr () (кореляція Пірсона). Ця функція повинна повертати одне число"
   ],
   "metadata": {
    "collapsed": false
   },
   "id": "aeccb2216a0088"
  },
  {
   "cell_type": "code",
   "execution_count": 26,
   "outputs": [
    {
     "name": "stdout",
     "output_type": "stream",
     "text": [
      "-0.3535341612894672\n"
     ]
    }
   ],
   "source": [
    "merged['Cited documents per person'] = merged['Citable documents'] / merged['Energy Supply per Capita']\n",
    "correlation = merged['Cited documents per person'].corr(merged['Energy Supply per Capita'])\n",
    "print(f\"{correlation}\")"
   ],
   "metadata": {
    "collapsed": false,
    "ExecuteTime": {
     "end_time": "2023-11-28T13:19:23.541974700Z",
     "start_time": "2023-11-28T13:19:23.521877300Z"
    }
   },
   "id": "8e4c4768d4d55d76"
  },
  {
   "cell_type": "markdown",
   "source": [
    "# Завдання 13\n",
    "## Створіть новий стовпчик в який занесіть 1, якщо значення % відновлюваної енергії (% Renewable) країни дорівнює або вище медіани для всіх країн, і 0, якщо значення (% Renewable) нижче медіани. Ця функція повинна повертати Series, індексом якого є назва країни, відсортована у порядку зростання Rank"
   ],
   "metadata": {
    "collapsed": false
   },
   "id": "aa9dc9cec1758515"
  },
  {
   "cell_type": "code",
   "execution_count": 27,
   "outputs": [
    {
     "data": {
      "text/plain": "Country\nChina                 1\nUnited States         0\nJapan                 0\nUnited Kingdom        0\nRussian Federation    1\nCanada                1\nGermany               1\nIndia                 0\nFrance                1\nSouth Korea           0\nItaly                 1\nSpain                 1\nIran                  0\nAustralia             0\nBrazil                1\nName: High Renewable, dtype: int64"
     },
     "execution_count": 27,
     "metadata": {},
     "output_type": "execute_result"
    }
   ],
   "source": [
    "median_renewable = merged['% Renewable'].median()\n",
    "merged['High Renewable'] = merged['% Renewable'].apply(lambda x: 1 if x >= median_renewable else 0)\n",
    "result = merged.set_index('Country').sort_values('Rank')['High Renewable']\n",
    "result"
   ],
   "metadata": {
    "collapsed": false,
    "ExecuteTime": {
     "end_time": "2023-11-28T13:19:36.964371900Z",
     "start_time": "2023-11-28T13:19:36.953684200Z"
    }
   },
   "id": "eabb86d5f0bdc71d"
  },
  {
   "cell_type": "markdown",
   "source": [
    "# Завдання 14\n",
    "## Використайте наступний словник, щоб згрупувати країни за континентами, потім створіть DataFrame, який відображає розмір вибірки (кількість країн на кожному континенті), а також суму, середнє та стандартне відхилення для оцінки кількості населення для кожної країни.\n",
    "## ContinentDict = {'China':'Asia',\n",
    "## 'United States':'North America',\n",
    "## 'Japan':'Asia',\n",
    "## 'United Kingdom':'Europe',\n",
    "## 'Russian Federation':'Europe',\n",
    "## 'Canada':'North America',\n",
    "## 'Germany':'Europe',\n",
    "## 'India':'Asia',\n",
    "## 'France':'Europe',\n",
    "## 'South Korea':'Asia',\n",
    "## 'Italy':'Europe',\n",
    "## 'Spain':'Europe',\n",
    "## 'Iran':'Asia',\n",
    "## 'Australia':'Australia',\n",
    "## 'Brazil':'South America'}\n",
    "## Ця функція повинна повертати DataFrame з індексом, що має ім’я Continent ['Asia', 'Australia', 'Europe', 'North America', 'South America'] та стовпцями ['size', 'sum', 'mean', 'std ']."
   ],
   "metadata": {
    "collapsed": false
   },
   "id": "55eafd7d31404d79"
  },
  {
   "cell_type": "code",
   "execution_count": 23,
   "outputs": [
    {
     "data": {
      "text/plain": "               size           sum           mean            std\nContinent                                                      \nAsia              5  199549000000 39909800000.00 49702036464.31\nAustralia         1    5386000000  5386000000.00            NaN\nEurope            6   73940000000 12323333333.33  9482712410.84\nNorth America     2  101269000000 50634500000.00 56856334954.87\nSouth America     1   12149000000 12149000000.00            NaN",
      "text/html": "<div>\n<style scoped>\n    .dataframe tbody tr th:only-of-type {\n        vertical-align: middle;\n    }\n\n    .dataframe tbody tr th {\n        vertical-align: top;\n    }\n\n    .dataframe thead th {\n        text-align: right;\n    }\n</style>\n<table border=\"1\" class=\"dataframe\">\n  <thead>\n    <tr style=\"text-align: right;\">\n      <th></th>\n      <th>size</th>\n      <th>sum</th>\n      <th>mean</th>\n      <th>std</th>\n    </tr>\n    <tr>\n      <th>Continent</th>\n      <th></th>\n      <th></th>\n      <th></th>\n      <th></th>\n    </tr>\n  </thead>\n  <tbody>\n    <tr>\n      <th>Asia</th>\n      <td>5</td>\n      <td>199549000000</td>\n      <td>39909800000.00</td>\n      <td>49702036464.31</td>\n    </tr>\n    <tr>\n      <th>Australia</th>\n      <td>1</td>\n      <td>5386000000</td>\n      <td>5386000000.00</td>\n      <td>NaN</td>\n    </tr>\n    <tr>\n      <th>Europe</th>\n      <td>6</td>\n      <td>73940000000</td>\n      <td>12323333333.33</td>\n      <td>9482712410.84</td>\n    </tr>\n    <tr>\n      <th>North America</th>\n      <td>2</td>\n      <td>101269000000</td>\n      <td>50634500000.00</td>\n      <td>56856334954.87</td>\n    </tr>\n    <tr>\n      <th>South America</th>\n      <td>1</td>\n      <td>12149000000</td>\n      <td>12149000000.00</td>\n      <td>NaN</td>\n    </tr>\n  </tbody>\n</table>\n</div>"
     },
     "execution_count": 23,
     "metadata": {},
     "output_type": "execute_result"
    }
   ],
   "source": [
    "ContinentDict = {\n",
    "    'China':'Asia',\n",
    "    'United States':'North America',\n",
    "    'Japan':'Asia',\n",
    "    'United Kingdom':'Europe',\n",
    "    'Russian Federation':'Europe',\n",
    "    'Canada':'North America',\n",
    "    'Germany':'Europe',\n",
    "    'India':'Asia',\n",
    "    'France':'Europe',\n",
    "    'South Korea':'Asia',\n",
    "    'Italy':'Europe',\n",
    "    'Spain':'Europe',\n",
    "    'Iran':'Asia',\n",
    "    'Australia':'Australia',\n",
    "    'Brazil':'South America'\n",
    "}\n",
    "\n",
    "merged['Continent'] = merged['Country'].map(ContinentDict)\n",
    "\n",
    "grouped = merged.groupby('Continent')['Energy Supply'].agg(['size', 'sum', 'mean', 'std'])\n",
    "grouped.columns = ['size', 'sum', 'mean', 'std'] \n",
    "\n",
    "result_df = grouped.reindex(['Asia', 'Australia', 'Europe', 'North America', 'South America'])\n",
    "\n",
    "result_df"
   ],
   "metadata": {
    "collapsed": false,
    "ExecuteTime": {
     "end_time": "2023-11-28T13:10:27.077794300Z",
     "start_time": "2023-11-28T13:10:27.042585300Z"
    }
   },
   "id": "ecfa0f7125fac01e"
  },
  {
   "cell_type": "markdown",
   "source": [
    "# Завдання 15\n",
    "## Створіть бульбашкову діаграму, що відображає залежність % поновлюван их джерел від рейтингу країни (% Renewable vs. Rank). Розмір бульбашки від повідає ВВП країн 2015 року, а колір відповідає континенту."
   ],
   "metadata": {
    "collapsed": false
   },
   "id": "6a6b31be4598f5d5"
  },
  {
   "cell_type": "code",
   "execution_count": 25,
   "outputs": [
    {
     "name": "stderr",
     "output_type": "stream",
     "text": [
      "C:\\Users\\polma\\.conda\\envs\\Lab3\\Lib\\site-packages\\seaborn\\_oldcore.py:1498: FutureWarning: is_categorical_dtype is deprecated and will be removed in a future version. Use isinstance(dtype, CategoricalDtype) instead\n",
      "  if pd.api.types.is_categorical_dtype(vector):\n",
      "C:\\Users\\polma\\.conda\\envs\\Lab3\\Lib\\site-packages\\seaborn\\_oldcore.py:1498: FutureWarning: is_categorical_dtype is deprecated and will be removed in a future version. Use isinstance(dtype, CategoricalDtype) instead\n",
      "  if pd.api.types.is_categorical_dtype(vector):\n",
      "C:\\Users\\polma\\.conda\\envs\\Lab3\\Lib\\site-packages\\seaborn\\_oldcore.py:1498: FutureWarning: is_categorical_dtype is deprecated and will be removed in a future version. Use isinstance(dtype, CategoricalDtype) instead\n",
      "  if pd.api.types.is_categorical_dtype(vector):\n",
      "C:\\Users\\polma\\.conda\\envs\\Lab3\\Lib\\site-packages\\seaborn\\_oldcore.py:1498: FutureWarning: is_categorical_dtype is deprecated and will be removed in a future version. Use isinstance(dtype, CategoricalDtype) instead\n",
      "  if pd.api.types.is_categorical_dtype(vector):\n",
      "C:\\Users\\polma\\.conda\\envs\\Lab3\\Lib\\site-packages\\seaborn\\_oldcore.py:1498: FutureWarning: is_categorical_dtype is deprecated and will be removed in a future version. Use isinstance(dtype, CategoricalDtype) instead\n",
      "  if pd.api.types.is_categorical_dtype(vector):\n",
      "C:\\Users\\polma\\.conda\\envs\\Lab3\\Lib\\site-packages\\seaborn\\_oldcore.py:1498: FutureWarning: is_categorical_dtype is deprecated and will be removed in a future version. Use isinstance(dtype, CategoricalDtype) instead\n",
      "  if pd.api.types.is_categorical_dtype(vector):\n"
     ]
    },
    {
     "data": {
      "text/plain": "<Figure size 1600x600 with 1 Axes>",
      "image/png": "[encoded data removed]"
     },
     "metadata": {},
     "output_type": "display_data"
    }
   ],
   "source": [
    "import matplotlib.pyplot as plt\n",
    "import seaborn as sns\n",
    "\n",
    "plt.figure(figsize=(16, 6))\n",
    "\n",
    "country_colors = {\n",
    "    'China': 'red', \n",
    "    'Japan': 'red',  \n",
    "    'India': 'red', \n",
    "    'South Korea': 'red',  \n",
    "    'Iran': 'red',  \n",
    "    'United States': 'blue', \n",
    "    'Canada': 'blue',  \n",
    "    'United Kingdom': 'green', \n",
    "    'Russian Federation': 'green',  \n",
    "    'Germany': 'green', \n",
    "    'France': 'green', \n",
    "    'Italy': 'green', \n",
    "    'Spain': 'green',  \n",
    "    'Brazil': 'orange',  \n",
    "    'Australia': 'yellow' \n",
    "}\n",
    "\n",
    "bubble = sns.scatterplot(x='Rank', y='% Renewable', size='2015', data=merged, sizes=(700, 10000), legend=False, hue=merged['Country'], palette=country_colors, alpha=0.5)\n",
    "plt.legend([], [], frameon=False)\n",
    "\n",
    "plt.xlabel('Ранг')  \n",
    "plt.ylabel('% Возобновляемых ресурсов') \n",
    "plt.xticks(range(1, 16, 1))\n",
    "plt.yticks(fontsize=12) \n",
    "\n",
    "for i in range(len(merged)):\n",
    "    plt.text(merged['Rank'][i], merged['% Renewable'][i], merged['Country'][i], ha='center', va='center', fontsize=8)\n",
    "\n",
    "plt.show()"
   ],
   "metadata": {
    "collapsed": false,
    "ExecuteTime": {
     "end_time": "2023-11-28T13:12:40.740069500Z",
     "start_time": "2023-11-28T13:12:39.605776500Z"
    }
   },
   "id": "3b13858965e49e53"
  },
  {
   "cell_type": "code",
   "execution_count": null,
   "outputs": [],
   "source": [],
   "metadata": {
    "collapsed": false
   },
   "id": "d4352c758ff10b1e"
  }
 ],
 "metadata": {
  "kernelspec": {
   "display_name": "Python 3",
   "language": "python",
   "name": "python3"
  },
  "language_info": {
   "codemirror_mode": {
    "name": "ipython",
    "version": 2
   },
   "file_extension": ".py",
   "mimetype": "text/x-python",
   "name": "python",
   "nbconvert_exporter": "python",
   "pygments_lexer": "ipython2",
   "version": "2.7.6"
  }
 },
 "nbformat": 4,
 "nbformat_minor": 5
}
